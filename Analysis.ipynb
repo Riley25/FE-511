{
 "cells": [
  {
   "cell_type": "code",
   "execution_count": 1,
   "metadata": {},
   "outputs": [
    {
     "name": "stdout",
     "output_type": "stream",
     "text": [
      "At least it prints!\n",
      "ALIP\n"
     ]
    }
   ],
   "source": [
    "\n",
    "print(\"At least it prints!\")\n",
    "print(\"ALIP\")\n"
   ]
  },
  {
   "cell_type": "code",
   "execution_count": 2,
   "id": "5ac60356",
   "metadata": {},
   "outputs": [
    {
     "name": "stdout",
     "output_type": "stream",
     "text": [
      "d:\\Documents\\Stevens\\FE-511\\project\n"
     ]
    }
   ],
   "source": [
    "import pandas as pd\n",
    "import matplotlib\n",
    "import matplotlib.pyplot as plt\n",
    "import numpy as np\n",
    "import seaborn as sns\n",
    "import os\n",
    "os.chdir(r'D:\\Documents\\Stevens\\FE-511\\project')\n",
    "print(os.getcwd())\n"
   ]
  },
  {
   "cell_type": "code",
   "execution_count": 3,
   "id": "9a544bdf",
   "metadata": {},
   "outputs": [
    {
     "data": {
      "text/html": [
       "<div>\n",
       "<style scoped>\n",
       "    .dataframe tbody tr th:only-of-type {\n",
       "        vertical-align: middle;\n",
       "    }\n",
       "\n",
       "    .dataframe tbody tr th {\n",
       "        vertical-align: top;\n",
       "    }\n",
       "\n",
       "    .dataframe thead th {\n",
       "        text-align: right;\n",
       "    }\n",
       "</style>\n",
       "<table border=\"1\" class=\"dataframe\">\n",
       "  <thead>\n",
       "    <tr style=\"text-align: right;\">\n",
       "      <th></th>\n",
       "      <th>Time_Index</th>\n",
       "      <th>TIME</th>\n",
       "      <th>YEAR</th>\n",
       "      <th>Date_Time</th>\n",
       "      <th>Revenue</th>\n",
       "      <th>MEDIAN_REVENUE_(EXPERT)</th>\n",
       "      <th>HIGH_REVENUE_(EXPERT)</th>\n",
       "      <th>LOW_REVENUE_(EXPERT)</th>\n",
       "      <th>Revenue - POP</th>\n",
       "      <th>Segment Revenue</th>\n",
       "      <th>...</th>\n",
       "      <th>Industrial Production (yoy %)</th>\n",
       "      <th>Housing Starts (000s, saar)</th>\n",
       "      <th>Housing Starts (%)</th>\n",
       "      <th>Building Permits (000s, saar)</th>\n",
       "      <th>Building Permits (%)</th>\n",
       "      <th>New Home Sales (000s, saar)</th>\n",
       "      <th>New Home Sales (%)</th>\n",
       "      <th>Existing Home Sales (mn, saar)</th>\n",
       "      <th>Existing Home Sales (%)</th>\n",
       "      <th>Gov't Budget Balance (% of GDP)</th>\n",
       "    </tr>\n",
       "  </thead>\n",
       "  <tbody>\n",
       "    <tr>\n",
       "      <th>0</th>\n",
       "      <td>1</td>\n",
       "      <td>2017 Q1</td>\n",
       "      <td>2017</td>\n",
       "      <td>2017-03-01</td>\n",
       "      <td>1006.439</td>\n",
       "      <td>995.5</td>\n",
       "      <td>1001.0</td>\n",
       "      <td>991</td>\n",
       "      <td>NaN</td>\n",
       "      <td>NaN</td>\n",
       "      <td>...</td>\n",
       "      <td>0.93</td>\n",
       "      <td>1190</td>\n",
       "      <td>NaN</td>\n",
       "      <td>1285</td>\n",
       "      <td>NaN</td>\n",
       "      <td>643</td>\n",
       "      <td>NaN</td>\n",
       "      <td>5.61</td>\n",
       "      <td>NaN</td>\n",
       "      <td>-3.410</td>\n",
       "    </tr>\n",
       "    <tr>\n",
       "      <th>1</th>\n",
       "      <td>2</td>\n",
       "      <td>2017 Q2</td>\n",
       "      <td>2017</td>\n",
       "      <td>2017-06-01</td>\n",
       "      <td>1075.172</td>\n",
       "      <td>1072.0</td>\n",
       "      <td>1084.0</td>\n",
       "      <td>1054</td>\n",
       "      <td>6.829326</td>\n",
       "      <td>NaN</td>\n",
       "      <td>...</td>\n",
       "      <td>1.60</td>\n",
       "      <td>1247</td>\n",
       "      <td>4.789916</td>\n",
       "      <td>1329</td>\n",
       "      <td>3.424125</td>\n",
       "      <td>612</td>\n",
       "      <td>-4.821151</td>\n",
       "      <td>5.49</td>\n",
       "      <td>-2.139037</td>\n",
       "      <td>-3.672</td>\n",
       "    </tr>\n",
       "    <tr>\n",
       "      <th>2</th>\n",
       "      <td>3</td>\n",
       "      <td>2017 Q3</td>\n",
       "      <td>2017</td>\n",
       "      <td>2017-09-01</td>\n",
       "      <td>1110.800</td>\n",
       "      <td>1107.0</td>\n",
       "      <td>1121.0</td>\n",
       "      <td>1088</td>\n",
       "      <td>3.313702</td>\n",
       "      <td>NaN</td>\n",
       "      <td>...</td>\n",
       "      <td>1.16</td>\n",
       "      <td>1175</td>\n",
       "      <td>-5.773857</td>\n",
       "      <td>1257</td>\n",
       "      <td>-5.417607</td>\n",
       "      <td>622</td>\n",
       "      <td>1.633987</td>\n",
       "      <td>5.45</td>\n",
       "      <td>-0.728597</td>\n",
       "      <td>-3.404</td>\n",
       "    </tr>\n",
       "  </tbody>\n",
       "</table>\n",
       "<p>3 rows × 142 columns</p>\n",
       "</div>"
      ],
      "text/plain": [
       "   Time_Index     TIME  YEAR  Date_Time   Revenue  MEDIAN_REVENUE_(EXPERT)  \\\n",
       "0           1  2017 Q1  2017 2017-03-01  1006.439                    995.5   \n",
       "1           2  2017 Q2  2017 2017-06-01  1075.172                   1072.0   \n",
       "2           3  2017 Q3  2017 2017-09-01  1110.800                   1107.0   \n",
       "\n",
       "   HIGH_REVENUE_(EXPERT)  LOW_REVENUE_(EXPERT)  Revenue - POP  \\\n",
       "0                 1001.0                   991            NaN   \n",
       "1                 1084.0                  1054       6.829326   \n",
       "2                 1121.0                  1088       3.313702   \n",
       "\n",
       "   Segment Revenue  ...  Industrial Production (yoy %)  \\\n",
       "0              NaN  ...                           0.93   \n",
       "1              NaN  ...                           1.60   \n",
       "2              NaN  ...                           1.16   \n",
       "\n",
       "   Housing Starts (000s, saar)  Housing Starts (%)  \\\n",
       "0                         1190                 NaN   \n",
       "1                         1247            4.789916   \n",
       "2                         1175           -5.773857   \n",
       "\n",
       "   Building Permits (000s, saar)  Building Permits (%)  \\\n",
       "0                           1285                   NaN   \n",
       "1                           1329              3.424125   \n",
       "2                           1257             -5.417607   \n",
       "\n",
       "   New Home Sales (000s, saar)  New Home Sales (%)  \\\n",
       "0                          643                 NaN   \n",
       "1                          612           -4.821151   \n",
       "2                          622            1.633987   \n",
       "\n",
       "   Existing Home Sales (mn, saar)  Existing Home Sales (%)  \\\n",
       "0                            5.61                      NaN   \n",
       "1                            5.49                -2.139037   \n",
       "2                            5.45                -0.728597   \n",
       "\n",
       "   Gov't Budget Balance (% of GDP)  \n",
       "0                           -3.410  \n",
       "1                           -3.672  \n",
       "2                           -3.404  \n",
       "\n",
       "[3 rows x 142 columns]"
      ]
     },
     "execution_count": 3,
     "metadata": {},
     "output_type": "execute_result"
    }
   ],
   "source": [
    "df = pd.read_excel('Data/1-FINAL_DATA.xlsx', sheet_name = 'FINAL')\n",
    "n_row, n_col = df.shape\n",
    "df.head(3)"
   ]
  },
  {
   "cell_type": "code",
   "execution_count": 4,
   "id": "c67a0801",
   "metadata": {},
   "outputs": [
    {
     "data": {
      "text/plain": [
       "Time_Index                                  int64\n",
       "TIME                                       object\n",
       "YEAR                                        int64\n",
       "Date_Time                          datetime64[ns]\n",
       "Revenue                                   float64\n",
       "                                        ...      \n",
       "New Home Sales (000s, saar)                 int64\n",
       "New Home Sales (%)                        float64\n",
       "Existing Home Sales (mn, saar)            float64\n",
       "Existing Home Sales (%)                   float64\n",
       "Gov't Budget Balance (% of GDP)           float64\n",
       "Length: 142, dtype: object"
      ]
     },
     "execution_count": 4,
     "metadata": {},
     "output_type": "execute_result"
    }
   ],
   "source": [
    "df.dtypes"
   ]
  },
  {
   "cell_type": "code",
   "execution_count": 5,
   "id": "dac1e54d",
   "metadata": {},
   "outputs": [
    {
     "data": {
      "image/png": "[encoded data removed]",
      "text/plain": [
       "<Figure size 468x216 with 1 Axes>"
      ]
     },
     "metadata": {
      "needs_background": "light"
     },
     "output_type": "display_data"
    }
   ],
   "source": [
    "with plt.style.context('science'):\n",
    "    sub_df = df[df['Time_Index'] <= 20]  \n",
    "    quaters = list(sub_df['TIME'])\n",
    "    sub_df = sub_df[['Truckload', 'Intermodal', 'Logistics', 'Other']]\n",
    "    \n",
    "    # This is where the fun begins. \n",
    "    ax = sub_df.plot.bar(stacked=True, figsize=(6.5, 3.0))\n",
    "    ax.set_xticklabels(quaters)\n",
    "\n",
    "    ax.get_yaxis().set_major_formatter(matplotlib.ticker.FuncFormatter(lambda x, p: format(int(x), ',')))\n",
    "    for label in (ax.get_yticklabels()  + ax.get_xticklabels()):\n",
    "     \tlabel.set_fontsize(13)\n",
    "    \n",
    "    plt.title(\"Revenue by Quarter (10-Q)\", fontsize = 14)\n",
    "    plt.legend(bbox_to_anchor=(1.05, 1.0), loc='upper left', fancybox = True, fontsize = 13)\n",
    "    plt.xlabel('Time', fontsize = 14)\n",
    "    plt.ylabel('Revenue \\n Millions $ (\\$) $', rotation = 'horizontal', fontsize = 14, labelpad= 55)\n",
    "\n",
    "    plt.xticks(rotation = 45)\n",
    "    plt.setp(ax.xaxis.get_majorticklabels(), ha='right')\n",
    "    #plt.savefig('plots/revenue_by_seg.svg', format='svg' , dpi = 450)\n",
    "    plt.show()"
   ]
  },
  {
   "cell_type": "code",
   "execution_count": 6,
   "id": "d09638f7",
   "metadata": {},
   "outputs": [
    {
     "name": "stdout",
     "output_type": "stream",
     "text": [
      "5\n"
     ]
    },
    {
     "data": {
      "text/html": [
       "<div>\n",
       "<style scoped>\n",
       "    .dataframe tbody tr th:only-of-type {\n",
       "        vertical-align: middle;\n",
       "    }\n",
       "\n",
       "    .dataframe tbody tr th {\n",
       "        vertical-align: top;\n",
       "    }\n",
       "\n",
       "    .dataframe thead th {\n",
       "        text-align: right;\n",
       "    }\n",
       "</style>\n",
       "<table border=\"1\" class=\"dataframe\">\n",
       "  <thead>\n",
       "    <tr style=\"text-align: right;\">\n",
       "      <th></th>\n",
       "      <th>Intermodal-Revenue</th>\n",
       "      <th>Logistics-Revenue</th>\n",
       "      <th>Other-Revenue</th>\n",
       "      <th>Truckload-Revenue</th>\n",
       "    </tr>\n",
       "    <tr>\n",
       "      <th>YEAR</th>\n",
       "      <th></th>\n",
       "      <th></th>\n",
       "      <th></th>\n",
       "      <th></th>\n",
       "    </tr>\n",
       "  </thead>\n",
       "  <tbody>\n",
       "    <tr>\n",
       "      <th>2017</th>\n",
       "      <td>780.0</td>\n",
       "      <td>834.2</td>\n",
       "      <td>293.5</td>\n",
       "      <td>2187.4</td>\n",
       "    </tr>\n",
       "    <tr>\n",
       "      <th>2018</th>\n",
       "      <td>953.5</td>\n",
       "      <td>1024.7</td>\n",
       "      <td>322.0</td>\n",
       "      <td>2268.0</td>\n",
       "    </tr>\n",
       "    <tr>\n",
       "      <th>2019</th>\n",
       "      <td>1007.8</td>\n",
       "      <td>934.8</td>\n",
       "      <td>371.3</td>\n",
       "      <td>2078.2</td>\n",
       "    </tr>\n",
       "    <tr>\n",
       "      <th>2020</th>\n",
       "      <td>974.7</td>\n",
       "      <td>1129.3</td>\n",
       "      <td>359.0</td>\n",
       "      <td>1851.0</td>\n",
       "    </tr>\n",
       "    <tr>\n",
       "      <th>2021</th>\n",
       "      <td>1143.1</td>\n",
       "      <td>1808.7</td>\n",
       "      <td>365.3</td>\n",
       "      <td>1934.9</td>\n",
       "    </tr>\n",
       "  </tbody>\n",
       "</table>\n",
       "</div>"
      ],
      "text/plain": [
       "      Intermodal-Revenue  Logistics-Revenue  Other-Revenue  Truckload-Revenue\n",
       "YEAR                                                                         \n",
       "2017               780.0              834.2          293.5             2187.4\n",
       "2018               953.5             1024.7          322.0             2268.0\n",
       "2019              1007.8              934.8          371.3             2078.2\n",
       "2020               974.7             1129.3          359.0             1851.0\n",
       "2021              1143.1             1808.7          365.3             1934.9"
      ]
     },
     "execution_count": 6,
     "metadata": {},
     "output_type": "execute_result"
    }
   ],
   "source": [
    "# Time Series .... \n",
    "sub_df = df[df['Time_Index'] <= 20] \n",
    "pivot = pd.pivot_table(sub_df, values = ['Truckload-Revenue','Intermodal-Revenue', 'Logistics-Revenue', 'Other-Revenue'], index = ['YEAR'], \n",
    "        aggfunc = {'Truckload-Revenue':  np.sum,\n",
    "                   'Intermodal-Revenue': np.sum,\n",
    "                   'Logistics-Revenue': np.sum,\n",
    "                   'Other-Revenue': np.sum})\n",
    "\n",
    "row, col = pivot.shape\n",
    "print(row)\n",
    "pivot\n"
   ]
  },
  {
   "cell_type": "code",
   "execution_count": 7,
   "id": "749da18e",
   "metadata": {},
   "outputs": [],
   "source": [
    "Intermodal = []\n",
    "Logistics = []\n",
    "Other = []\n",
    "Truckload = []\n",
    "\n",
    "Intermodal.append(np.nan)\n",
    "Logistics.append(np.nan)\n",
    "Other.append(np.nan)\n",
    "Truckload.append(np.nan)\n",
    "\n",
    "for i in range(1, row):\n",
    "    Intermodal.append(round( ((pivot['Intermodal-Revenue'].iloc[i] - pivot['Intermodal-Revenue'].iloc[(i-1)]) / pivot['Intermodal-Revenue'].iloc[(i-1)])*100,2))\n",
    "\n",
    "    Logistics.append(round( ((pivot['Logistics-Revenue'].iloc[i] - pivot['Logistics-Revenue'].iloc[(i-1)]) / pivot['Logistics-Revenue'].iloc[(i-1)] )*100,2))\n",
    "\n",
    "    Other.append( round( ((pivot['Other-Revenue'].iloc[i] - pivot['Other-Revenue'].iloc[(i-1)]) / pivot['Other-Revenue'].iloc[(i-1)])*100,2))\n",
    "\n",
    "    Truckload.append( round(((pivot['Truckload-Revenue'].iloc[i] - pivot['Truckload-Revenue'].iloc[(i-1)]) / pivot['Truckload-Revenue'].iloc[(i-1)])*100,2) )\n",
    "\n",
    "pivot.insert(1, 'Intermodal (YoY %)', Intermodal)\n",
    "pivot.insert(3, 'Logistics (YoY %)', Logistics)\n",
    "pivot.insert(5, 'Other (YoY %)', Other)\n",
    "pivot.insert(7, 'Truckload (YoY %)', Truckload)\n"
   ]
  },
  {
   "cell_type": "code",
   "execution_count": 8,
   "id": "c6a768ac",
   "metadata": {},
   "outputs": [
    {
     "data": {
      "text/html": [
       "<div>\n",
       "<style scoped>\n",
       "    .dataframe tbody tr th:only-of-type {\n",
       "        vertical-align: middle;\n",
       "    }\n",
       "\n",
       "    .dataframe tbody tr th {\n",
       "        vertical-align: top;\n",
       "    }\n",
       "\n",
       "    .dataframe thead th {\n",
       "        text-align: right;\n",
       "    }\n",
       "</style>\n",
       "<table border=\"1\" class=\"dataframe\">\n",
       "  <thead>\n",
       "    <tr style=\"text-align: right;\">\n",
       "      <th></th>\n",
       "      <th>YEAR</th>\n",
       "      <th>Intermodal-Revenue</th>\n",
       "      <th>Intermodal (YoY %)</th>\n",
       "      <th>Logistics-Revenue</th>\n",
       "      <th>Logistics (YoY %)</th>\n",
       "      <th>Other-Revenue</th>\n",
       "      <th>Other (YoY %)</th>\n",
       "      <th>Truckload-Revenue</th>\n",
       "      <th>Truckload (YoY %)</th>\n",
       "    </tr>\n",
       "  </thead>\n",
       "  <tbody>\n",
       "    <tr>\n",
       "      <th>0</th>\n",
       "      <td>2017</td>\n",
       "      <td>780.0</td>\n",
       "      <td>NaN</td>\n",
       "      <td>834.2</td>\n",
       "      <td>NaN</td>\n",
       "      <td>293.5</td>\n",
       "      <td>NaN</td>\n",
       "      <td>2187.4</td>\n",
       "      <td>NaN</td>\n",
       "    </tr>\n",
       "    <tr>\n",
       "      <th>1</th>\n",
       "      <td>2018</td>\n",
       "      <td>953.5</td>\n",
       "      <td>22.24</td>\n",
       "      <td>1024.7</td>\n",
       "      <td>22.84</td>\n",
       "      <td>322.0</td>\n",
       "      <td>9.71</td>\n",
       "      <td>2268.0</td>\n",
       "      <td>3.68</td>\n",
       "    </tr>\n",
       "    <tr>\n",
       "      <th>2</th>\n",
       "      <td>2019</td>\n",
       "      <td>1007.8</td>\n",
       "      <td>5.69</td>\n",
       "      <td>934.8</td>\n",
       "      <td>-8.77</td>\n",
       "      <td>371.3</td>\n",
       "      <td>15.31</td>\n",
       "      <td>2078.2</td>\n",
       "      <td>-8.37</td>\n",
       "    </tr>\n",
       "    <tr>\n",
       "      <th>3</th>\n",
       "      <td>2020</td>\n",
       "      <td>974.7</td>\n",
       "      <td>-3.28</td>\n",
       "      <td>1129.3</td>\n",
       "      <td>20.81</td>\n",
       "      <td>359.0</td>\n",
       "      <td>-3.31</td>\n",
       "      <td>1851.0</td>\n",
       "      <td>-10.93</td>\n",
       "    </tr>\n",
       "    <tr>\n",
       "      <th>4</th>\n",
       "      <td>2021</td>\n",
       "      <td>1143.1</td>\n",
       "      <td>17.28</td>\n",
       "      <td>1808.7</td>\n",
       "      <td>60.16</td>\n",
       "      <td>365.3</td>\n",
       "      <td>1.75</td>\n",
       "      <td>1934.9</td>\n",
       "      <td>4.53</td>\n",
       "    </tr>\n",
       "  </tbody>\n",
       "</table>\n",
       "</div>"
      ],
      "text/plain": [
       "   YEAR  Intermodal-Revenue  Intermodal (YoY %)  Logistics-Revenue  \\\n",
       "0  2017               780.0                 NaN              834.2   \n",
       "1  2018               953.5               22.24             1024.7   \n",
       "2  2019              1007.8                5.69              934.8   \n",
       "3  2020               974.7               -3.28             1129.3   \n",
       "4  2021              1143.1               17.28             1808.7   \n",
       "\n",
       "   Logistics (YoY %)  Other-Revenue  Other (YoY %)  Truckload-Revenue  \\\n",
       "0                NaN          293.5            NaN             2187.4   \n",
       "1              22.84          322.0           9.71             2268.0   \n",
       "2              -8.77          371.3          15.31             2078.2   \n",
       "3              20.81          359.0          -3.31             1851.0   \n",
       "4              60.16          365.3           1.75             1934.9   \n",
       "\n",
       "   Truckload (YoY %)  \n",
       "0                NaN  \n",
       "1               3.68  \n",
       "2              -8.37  \n",
       "3             -10.93  \n",
       "4               4.53  "
      ]
     },
     "execution_count": 8,
     "metadata": {},
     "output_type": "execute_result"
    }
   ],
   "source": [
    "pivot = pivot.reset_index()\n",
    "pivot['YEAR'] = pivot['YEAR'].astype(int)\n",
    "pivot.head()"
   ]
  },
  {
   "cell_type": "code",
   "execution_count": 9,
   "id": "82eecf33",
   "metadata": {},
   "outputs": [
    {
     "data": {
      "text/plain": [
       "Index(['YEAR', 'Intermodal-Revenue', 'Intermodal (YoY %)', 'Logistics-Revenue',\n",
       "       'Logistics (YoY %)', 'Other-Revenue', 'Other (YoY %)',\n",
       "       'Truckload-Revenue', 'Truckload (YoY %)'],\n",
       "      dtype='object')"
      ]
     },
     "execution_count": 9,
     "metadata": {},
     "output_type": "execute_result"
    }
   ],
   "source": [
    "pivot.columns "
   ]
  },
  {
   "cell_type": "code",
   "execution_count": 10,
   "id": "da8cd5c1",
   "metadata": {},
   "outputs": [
    {
     "data": {
      "image/png": "[encoded data removed]",
      "text/plain": [
       "<Figure size 234x198 with 1 Axes>"
      ]
     },
     "metadata": {
      "needs_background": "light"
     },
     "output_type": "display_data"
    }
   ],
   "source": [
    "with plt.style.context('science'):\n",
    "    fig, ax = plt.subplots(figsize=(3.25, 2.75))\n",
    "\n",
    "    plt.plot(pivot['YEAR'], pivot['Intermodal-Revenue'], marker = \".\", label = 'Intermodal', color = 'Green')\n",
    "    plt.plot(pivot['YEAR'], pivot['Logistics-Revenue'], marker = \".\", label = 'Logistics', color = '#ffa500')\n",
    "    plt.plot(pivot['YEAR'], pivot['Other-Revenue'], marker = \".\", label = \"Other\", color = 'Red')\n",
    "    plt.plot(pivot['YEAR'], pivot['Truckload-Revenue'], marker = \".\", label = 'Truckload', color = '#204cbd')\n",
    "\n",
    "    ax.get_yaxis().set_major_formatter(matplotlib.ticker.FuncFormatter(lambda x, p: format(int(x), ',')))\n",
    "    for label in (ax.get_yticklabels()  + ax.get_xticklabels()):\n",
    "     \tlabel.set_fontsize(13)\n",
    "    \n",
    "    plt.title('Revenue by Year', fontsize = 14)\n",
    "    plt.legend(bbox_to_anchor=(1.05, 1.0), loc='upper left', fancybox = True, fontsize = 13)\n",
    "    plt.xlabel('Time', fontsize = 14)\n",
    "    plt.ylabel('Revenue \\n  Millions $(\\$) $', rotation = 'horizontal', fontsize = 14, labelpad= 55)\n",
    "\n",
    "    #plt.xticks(rotation = 45)\n",
    "    #plt.setp(ax.xaxis.get_majorticklabels(), ha='right')\n",
    "    #plt.savefig('plots/revenue_by_seg_year.svg', format='svg', dpi = 450 )\n",
    "\n"
   ]
  },
  {
   "cell_type": "code",
   "execution_count": 11,
   "id": "7042a7d8",
   "metadata": {},
   "outputs": [
    {
     "data": {
      "image/png": "[encoded data removed]",
      "text/plain": [
       "<Figure size 234x198 with 1 Axes>"
      ]
     },
     "metadata": {
      "needs_background": "light"
     },
     "output_type": "display_data"
    }
   ],
   "source": [
    "\n",
    "\n",
    "with plt.style.context('science'):\n",
    "    fig, ax = plt.subplots(figsize=(3.25, 2.75))\n",
    "\n",
    "    plt.plot(pivot['YEAR'], pivot['Intermodal (YoY %)'], marker = \".\", label = 'Intermodal', color = 'Green')\n",
    "    plt.plot(pivot['YEAR'], pivot['Logistics (YoY %)'], marker = \".\", label = 'Logistics', color = '#ffa500')\n",
    "    plt.plot(pivot['YEAR'], pivot['Other (YoY %)'], marker = \".\", label = \"Other\", color = 'Red')\n",
    "    plt.plot(pivot['YEAR'], pivot['Truckload (YoY %)'], marker = \".\", label = 'Truckload', color = '#204cbd')\n",
    "    \n",
    "\n",
    "    ax.get_yaxis().set_major_formatter(matplotlib.ticker.FuncFormatter(lambda x, p: format(int(x), ',')))\n",
    "    for label in (ax.get_yticklabels()  + ax.get_xticklabels()):\n",
    "     \tlabel.set_fontsize(13)\n",
    "    \n",
    "    plt.title(\"Revenue by  Year\", fontsize = 14)\n",
    "    plt.legend(bbox_to_anchor=(1.05, 1.0), loc='upper left', fancybox = True, fontsize = 13)\n",
    "    plt.xlabel('Time', fontsize = 14)\n",
    "    plt.ylabel('Revenue \\n Increase $ (\\%) $', rotation = 'horizontal', fontsize = 14, labelpad= 55)\n",
    "\n",
    "    #plt.xticks(rotation = 45) \n",
    "    #plt.setp(ax.xaxis.get_majorticklabels(), ha='right')\n",
    "    plt.plot(pivot['YEAR'].iloc[1:], [0]* (len(pivot['YEAR'])-1),  color = '#000000', linewidth = .6)\n",
    "    #plt.savefig('plots/revenue_by_seg_year_percent.svg', format='svg', dpi = 450)\n",
    "\n",
    "\n"
   ]
  },
  {
   "cell_type": "code",
   "execution_count": 12,
   "id": "697da00c",
   "metadata": {},
   "outputs": [
    {
     "data": {
      "image/png": "[encoded data removed]",
      "text/plain": [
       "<Figure size 360x144 with 1 Axes>"
      ]
     },
     "metadata": {
      "needs_background": "light"
     },
     "output_type": "display_data"
    }
   ],
   "source": [
    "\n",
    "with plt.style.context('science'):\n",
    "    fig, ax = plt.subplots(figsize=(5.0, 2.0))\n",
    "\n",
    "    y = df['Total Revenue-GAAP']\n",
    "    x = df['Time_Index']\n",
    "    ax.get_yaxis().set_major_formatter(matplotlib.ticker.FuncFormatter(lambda x, p: format(int(x), ',')))\n",
    "\n",
    "    plt.plot(x, y, label = 'Revenue', marker = \".\")\n",
    "    \n",
    "    y_new = list(range(800, 2000)) ; l = len(y_new)\n",
    "    plt.plot([20]*l, y_new , color = 'grey', linestyle='dashed', linewidth = .75, label = 'Present Day')\n",
    "\n",
    "    plt.xlabel('Time', fontsize = 14)\n",
    "    plt.ylabel('Revenue \\n Millions $(\\$)$', rotation = 'horizontal', fontsize = 14, labelpad= 55)\n",
    "\n",
    "    plt.xlim(0, np.max(df['Time_Index']))\n",
    "    plt.ylim(890, 1600)\n",
    "\n",
    "    plt.legend(bbox_to_anchor=(1.05, 1.0), loc='upper left', fancybox = True, fontsize = 13)\n",
    "    #plt.savefig('plots/total_rev_quaterly.svg', format='svg' ,dpi = 450)\n",
    "    plt.show()\n",
    "\n"
   ]
  },
  {
   "cell_type": "code",
   "execution_count": 13,
   "id": "eace41e1",
   "metadata": {},
   "outputs": [
    {
     "data": {
      "image/png": "[encoded data removed]",
      "text/plain": [
       "<Figure size 360x144 with 1 Axes>"
      ]
     },
     "metadata": {
      "needs_background": "light"
     },
     "output_type": "display_data"
    }
   ],
   "source": [
    "\n",
    "with plt.style.context('science'):\n",
    "    fig, ax = plt.subplots(figsize=(5.0, 2.0))\n",
    "\n",
    "    y = df['Building Permits (000s, saar)']\n",
    "    x = df['Time_Index']\n",
    "    ax.get_yaxis().set_major_formatter(matplotlib.ticker.FuncFormatter(lambda x, p: format(int(x), ',')))\n",
    "\n",
    "    plt.plot(x, y, label = 'Building Permits', marker = \".\")\n",
    "\n",
    "    plt.xlabel('Time', fontsize = 14)\n",
    "    plt.ylabel('Building Permits \\n (Thousands)', rotation = 'horizontal', fontsize = 14, labelpad= 55)\n",
    "\n",
    "    plt.xlim(0, np.max(df['Time_Index']))\n",
    "    plt.ylim(1000, 2000)\n",
    "\n",
    "    y_new = list(range(800, 2000)) ; l = len(y_new)\n",
    "    plt.plot([20]*l, y_new , color = 'grey', linestyle='dashed', linewidth = .75, label = 'Present Day')\n",
    "    plt.legend(bbox_to_anchor=(1.05, 1.0), loc='upper left', fancybox = True, fontsize = 13)\n",
    "    #plt.savefig('plots/time_series_building_permits.svg', format='svg' ,dpi = 450)\n",
    "    plt.show()\n"
   ]
  },
  {
   "cell_type": "code",
   "execution_count": 14,
   "id": "fecfcdb1",
   "metadata": {},
   "outputs": [],
   "source": [
    "from sklearn.linear_model import LinearRegression"
   ]
  },
  {
   "cell_type": "code",
   "execution_count": 15,
   "id": "ca2e6dd3",
   "metadata": {},
   "outputs": [
    {
     "name": "stdout",
     "output_type": "stream",
     "text": [
      "0.49926613463706115\n",
      "intercept: 416.7121909548482\n",
      "slope: [0.47800853]\n"
     ]
    }
   ],
   "source": [
    "x = np.array(df['Building Permits (000s, saar)'].iloc[:20]).reshape((-1, 1))\n",
    "y = np.array(df['Total Revenue-GAAP'].iloc[:20])\n",
    "\n",
    "model = LinearRegression()\n",
    "model.fit(x, y)\n",
    "\n",
    "r_sq = model.score(x, y)\n",
    "print(r_sq)\n",
    "\n",
    "print('intercept:', model.intercept_)\n",
    "\n",
    "print('slope:', model.coef_)\n",
    "\n",
    "\n"
   ]
  },
  {
   "cell_type": "code",
   "execution_count": 16,
   "id": "bbd60b2f",
   "metadata": {},
   "outputs": [],
   "source": [
    "x_range = list(range(np.min(x), np.max(x)))\n",
    "y_fit = []\n",
    "for x_i in x_range:\n",
    "    y_i = float(model.coef_*x_i + model.intercept_)\n",
    "    y_fit.append(  y_i  )\n"
   ]
  },
  {
   "cell_type": "code",
   "execution_count": 17,
   "id": "bef92911",
   "metadata": {},
   "outputs": [
    {
     "data": {
      "image/png": "[encoded data removed]",
      "text/plain": [
       "<Figure size 216x180 with 1 Axes>"
      ]
     },
     "metadata": {
      "needs_background": "light"
     },
     "output_type": "display_data"
    }
   ],
   "source": [
    "\n",
    "with plt.style.context('science'):\n",
    "    fig, ax = plt.subplots(figsize=(3.0, 2.5))\n",
    "\n",
    "    y = df['Total Revenue-GAAP']\n",
    "    x = df['Building Permits (000s, saar)']\n",
    "    ax.get_yaxis().set_major_formatter(matplotlib.ticker.FuncFormatter(lambda x, p: format(int(x), ',')))\n",
    "    ax.get_xaxis().set_major_formatter(matplotlib.ticker.FuncFormatter(lambda x, p: format(int(x), ',')))\n",
    "    \n",
    "    plt.scatter(x, y, label = 'Revenue')\n",
    "\n",
    "    plt.xlabel('Building Permits (Thousands)', fontsize = 14)\n",
    "    plt.ylabel('Revenue \\n Millions $(\\$)$', rotation = 'horizontal', fontsize = 14, labelpad= 45)\n",
    "    plt.title(\"Scatter Plot\")\n",
    "\n",
    "    plt.plot(x_range, y_fit, color = 'black')\n",
    "    #plt.savefig('plots/scatter_revenue_housing_permits.svg', format='svg' ,dpi = 450)\n",
    "    plt.show()"
   ]
  },
  {
   "cell_type": "code",
   "execution_count": 20,
   "id": "05714187",
   "metadata": {},
   "outputs": [],
   "source": [
    "x = df['Time_Index']"
   ]
  },
  {
   "cell_type": "code",
   "execution_count": 21,
   "id": "f102d828",
   "metadata": {},
   "outputs": [
    {
     "data": {
      "image/png": "[encoded data removed]",
      "text/plain": [
       "<Figure size 360x144 with 1 Axes>"
      ]
     },
     "metadata": {
      "needs_background": "light"
     },
     "output_type": "display_data"
    }
   ],
   "source": [
    "x1 = [21]\n",
    "y1 = [1180]\n",
    "\n",
    "x1.append(20)\n",
    "y1.append(df['Total Revenue-GAAP'].iloc[19])\n",
    "\n",
    "with plt.style.context('science'):\n",
    "    fig, ax = plt.subplots(figsize=(5.0, 2.0))\n",
    "\n",
    "    y = df['Total Revenue-GAAP']\n",
    "    x = df['Time_Index']\n",
    "    ax.get_yaxis().set_major_formatter(matplotlib.ticker.FuncFormatter(lambda x, p: format(int(x), ',')))\n",
    "\n",
    "    plt.plot(x, y, label = 'Revenue', marker = \".\")\n",
    "    plt.plot(x1, y1, marker = '.')\n",
    "    \n",
    "    y_new = list(range(800, 2000)) ; l = len(y_new)\n",
    "    plt.plot([20]*l, y_new , color = 'grey', linestyle='dashed', linewidth = .75, label = 'Present Day')\n",
    "\n",
    "    plt.xlabel('Time', fontsize = 14)\n",
    "    plt.ylabel('Revenue \\n Millions $(\\$)$', rotation = 'horizontal', fontsize = 14, labelpad= 55)\n",
    "\n",
    "    plt.xlim(0, np.max(df['Time_Index']))\n",
    "    plt.ylim(890, 1600)\n",
    "\n",
    "    plt.legend(bbox_to_anchor=(1.05, 1.0), loc='upper left', fancybox = True, fontsize = 13)\n",
    "    #plt.savefig('plots/timeseries_totalrev_predict1.svg', format='svg' ,dpi = 450)\n",
    "    plt.show()\n"
   ]
  },
  {
   "cell_type": "code",
   "execution_count": null,
   "id": "8752e7f4",
   "metadata": {},
   "outputs": [],
   "source": []
  }
 ],
 "metadata": {
  "interpreter": {
   "hash": "81ce073980d74db8b40d5b7dfd6daf3a2c2bbd872f27ac6d9cd03d097aee0b55"
  },
  "kernelspec": {
   "display_name": "Python 3.9.9 64-bit",
   "language": "python",
   "name": "python3"
  },
  "language_info": {
   "codemirror_mode": {
    "name": "ipython",
    "version": 3
   },
   "file_extension": ".py",
   "mimetype": "text/x-python",
   "name": "python",
   "nbconvert_exporter": "python",
   "pygments_lexer": "ipython3",
   "version": "3.9.9"
  }
 },
 "nbformat": 4,
 "nbformat_minor": 5
}
